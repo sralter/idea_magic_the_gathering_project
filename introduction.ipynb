{
 "cells": [
  {
   "cell_type": "markdown",
   "id": "45d9c25f-6641-4385-872b-fddc8aaa7ad6",
   "metadata": {},
   "source": [
    "# **Magic: The Gathering** Project"
   ]
  },
  {
   "cell_type": "markdown",
   "id": "7fa97f08-897c-4010-aab4-399b7eb61216",
   "metadata": {},
   "source": [
    "Using [this Kaggle **Magic: The Gathering** dataset](https://www.kaggle.com/datasets/mylesoneill/magic-the-gathering-cards), as well as the card images from [here](http://gatherer.wizards.com/Handlers/Image.ashx?multiverseid=180607&type=card), I hope to perform a suite of analyses on the data, including NLP on the card text, image analysis on the art, time series analysis on the price history, among other things."
   ]
  },
  {
   "cell_type": "code",
   "execution_count": null,
   "id": "960766a1-dab4-4621-aa94-7dff1271bcb0",
   "metadata": {},
   "outputs": [],
   "source": []
  }
 ],
 "metadata": {
  "kernelspec": {
   "display_name": "bigdataml",
   "language": "python",
   "name": "bigdataml"
  },
  "language_info": {
   "codemirror_mode": {
    "name": "ipython",
    "version": 3
   },
   "file_extension": ".py",
   "mimetype": "text/x-python",
   "name": "python",
   "nbconvert_exporter": "python",
   "pygments_lexer": "ipython3",
   "version": "3.8.16"
  }
 },
 "nbformat": 4,
 "nbformat_minor": 5
}
