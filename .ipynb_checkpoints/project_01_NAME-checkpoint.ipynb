{
 "cells": [
  {
   "cell_type": "markdown",
   "id": "45d9c25f-6641-4385-872b-fddc8aaa7ad6",
   "metadata": {},
   "source": [
    "# **Magic: The Gathering** Project"
   ]
  },
  {
   "cell_type": "markdown",
   "id": "7fa97f08-897c-4010-aab4-399b7eb61216",
   "metadata": {},
   "source": [
    "Using [this Kaggle **Magic: The Gathering** dataset](https://www.kaggle.com/datasets/mylesoneill/magic-the-gathering-cards), as well as the card images from [here](http://gatherer.wizards.com/Handlers/Image.ashx?multiverseid=180607&type=card), I hope to perform a suite of analyses on the data, including NLP on the card text, image analysis on the art, time series analysis on the price history, among other things."
   ]
  },
  {
   "cell_type": "markdown",
   "id": "ace87152-492e-4979-8232-5bca97a015e0",
   "metadata": {},
   "source": [
    "# Project One: NLP On Color Identity and Name"
   ]
  },
  {
   "cell_type": "markdown",
   "id": "d007e747-66f8-42a2-b7b9-25b1627fb50d",
   "metadata": {},
   "source": [
    "## Imports"
   ]
  },
  {
   "cell_type": "code",
   "execution_count": 50,
   "id": "960766a1-dab4-4621-aa94-7dff1271bcb0",
   "metadata": {},
   "outputs": [
    {
     "name": "stderr",
     "output_type": "stream",
     "text": [
      "[nltk_data] Downloading package punkt to /Users/sra/nltk_data...\n",
      "[nltk_data]   Package punkt is already up-to-date!\n",
      "[nltk_data] Downloading package wordnet to /Users/sra/nltk_data...\n",
      "[nltk_data]   Package wordnet is already up-to-date!\n",
      "[nltk_data] Downloading package omw-1.4 to /Users/sra/nltk_data...\n",
      "[nltk_data]   Package omw-1.4 is already up-to-date!\n",
      "[nltk_data] Downloading package averaged_perceptron_tagger to\n",
      "[nltk_data]     /Users/sra/nltk_data...\n",
      "[nltk_data]   Package averaged_perceptron_tagger is already up-to-\n",
      "[nltk_data]       date!\n"
     ]
    }
   ],
   "source": [
    "import pandas as pd\n",
    "import numpy as np\n",
    "import matplotlib.pyplot as plt\n",
    "\n",
    "import re\n",
    "\n",
    "# some useful things\n",
    "import string\n",
    "\n",
    "# NLTK Packages (Natural Language ToolKit)\n",
    "import nltk\n",
    "nltk.download('punkt')\n",
    "nltk.download('wordnet')\n",
    "nltk.download('omw-1.4')\n",
    "nltk.download('averaged_perceptron_tagger')\n",
    "from nltk.corpus import stopwords # lists of stopwords\n",
    "from nltk.tokenize import word_tokenize # tool for splitting documents into tokens\n",
    "from nltk.tokenize import sent_tokenize\n",
    "from nltk.stem import PorterStemmer # basic stemmer\n",
    "from nltk.stem import WordNetLemmatizer # more sophisticated word->lemma"
   ]
  },
  {
   "cell_type": "code",
   "execution_count": 31,
   "id": "8df72c7a-5a5f-4fc1-8932-578d2353ea8b",
   "metadata": {},
   "outputs": [
    {
     "name": "stdout",
     "output_type": "stream",
     "text": [
      "Collecting wordcloud\n",
      "  Downloading wordcloud-1.9.2.tar.gz (222 kB)\n",
      "\u001b[2K     \u001b[90m━━━━━━━━━━━━━━━━━━━━━━━━━━━━━━━━━━━━━━━\u001b[0m \u001b[32m222.8/222.8 kB\u001b[0m \u001b[31m2.4 MB/s\u001b[0m eta \u001b[36m0:00:00\u001b[0ma \u001b[36m0:00:01\u001b[0m\n",
      "\u001b[?25h  Preparing metadata (setup.py) ... \u001b[?25ldone\n",
      "\u001b[?25hRequirement already satisfied: numpy>=1.6.1 in /Applications/Anaconda/anaconda3/envs/bigdataml/lib/python3.8/site-packages (from wordcloud) (1.23.5)\n",
      "Requirement already satisfied: pillow in /Applications/Anaconda/anaconda3/envs/bigdataml/lib/python3.8/site-packages (from wordcloud) (9.4.0)\n",
      "Requirement already satisfied: matplotlib in /Applications/Anaconda/anaconda3/envs/bigdataml/lib/python3.8/site-packages (from wordcloud) (3.7.1)\n",
      "Requirement already satisfied: kiwisolver>=1.0.1 in /Applications/Anaconda/anaconda3/envs/bigdataml/lib/python3.8/site-packages (from matplotlib->wordcloud) (1.4.4)\n",
      "Requirement already satisfied: fonttools>=4.22.0 in /Applications/Anaconda/anaconda3/envs/bigdataml/lib/python3.8/site-packages (from matplotlib->wordcloud) (4.25.0)\n",
      "Requirement already satisfied: contourpy>=1.0.1 in /Applications/Anaconda/anaconda3/envs/bigdataml/lib/python3.8/site-packages (from matplotlib->wordcloud) (1.0.5)\n",
      "Requirement already satisfied: pyparsing>=2.3.1 in /Applications/Anaconda/anaconda3/envs/bigdataml/lib/python3.8/site-packages (from matplotlib->wordcloud) (3.0.9)\n",
      "Requirement already satisfied: python-dateutil>=2.7 in /Applications/Anaconda/anaconda3/envs/bigdataml/lib/python3.8/site-packages (from matplotlib->wordcloud) (2.8.2)\n",
      "Requirement already satisfied: importlib-resources>=3.2.0 in /Applications/Anaconda/anaconda3/envs/bigdataml/lib/python3.8/site-packages (from matplotlib->wordcloud) (5.2.0)\n",
      "Requirement already satisfied: cycler>=0.10 in /Applications/Anaconda/anaconda3/envs/bigdataml/lib/python3.8/site-packages (from matplotlib->wordcloud) (0.11.0)\n",
      "Requirement already satisfied: packaging>=20.0 in /Applications/Anaconda/anaconda3/envs/bigdataml/lib/python3.8/site-packages (from matplotlib->wordcloud) (23.0)\n",
      "Requirement already satisfied: zipp>=3.1.0 in /Applications/Anaconda/anaconda3/envs/bigdataml/lib/python3.8/site-packages (from importlib-resources>=3.2.0->matplotlib->wordcloud) (3.11.0)\n",
      "Requirement already satisfied: six>=1.5 in /Applications/Anaconda/anaconda3/envs/bigdataml/lib/python3.8/site-packages (from python-dateutil>=2.7->matplotlib->wordcloud) (1.16.0)\n",
      "Building wheels for collected packages: wordcloud\n",
      "  Building wheel for wordcloud (setup.py) ... \u001b[?25ldone\n",
      "\u001b[?25h  Created wheel for wordcloud: filename=wordcloud-1.9.2-cp38-cp38-macosx_11_0_arm64.whl size=154114 sha256=299f0628f9334d2842bfab786d12321943f60e3eed9ff1e594ea733c345d8fae\n",
      "  Stored in directory: /Users/sra/Library/Caches/pip/wheels/91/ec/76/830440a234d211054cf724db3a3c30b66709ad1685ac9618fa\n",
      "Successfully built wordcloud\n",
      "Installing collected packages: wordcloud\n",
      "Successfully installed wordcloud-1.9.2\n",
      "Note: you may need to restart the kernel to use updated packages.\n"
     ]
    }
   ],
   "source": [
    "%pip install wordcloud # in case we want to use some of of the advanced features of nltk"
   ]
  },
  {
   "cell_type": "markdown",
   "id": "6153a092-61d7-46f6-b0d7-8a5207e7d18b",
   "metadata": {},
   "source": [
    "## Read in data"
   ]
  },
  {
   "cell_type": "code",
   "execution_count": 17,
   "id": "2dbfbf6a-cccd-43f0-bff9-b57044e8969e",
   "metadata": {},
   "outputs": [
    {
     "data": {
      "text/html": [
       "<div>\n",
       "<style scoped>\n",
       "    .dataframe tbody tr th:only-of-type {\n",
       "        vertical-align: middle;\n",
       "    }\n",
       "\n",
       "    .dataframe tbody tr th {\n",
       "        vertical-align: top;\n",
       "    }\n",
       "\n",
       "    .dataframe thead th {\n",
       "        text-align: right;\n",
       "    }\n",
       "</style>\n",
       "<table border=\"1\" class=\"dataframe\">\n",
       "  <thead>\n",
       "    <tr style=\"text-align: right;\">\n",
       "      <th></th>\n",
       "      <th>colorIdentity</th>\n",
       "      <th>colors</th>\n",
       "      <th>convertedManaCost</th>\n",
       "      <th>foreignData</th>\n",
       "      <th>layout</th>\n",
       "      <th>legalities</th>\n",
       "      <th>manaCost</th>\n",
       "      <th>name</th>\n",
       "      <th>printings</th>\n",
       "      <th>purchaseUrls</th>\n",
       "      <th>...</th>\n",
       "      <th>faceConvertedManaCost</th>\n",
       "      <th>names</th>\n",
       "      <th>side</th>\n",
       "      <th>isReserved</th>\n",
       "      <th>leadershipSkills</th>\n",
       "      <th>loyalty</th>\n",
       "      <th>hand</th>\n",
       "      <th>life</th>\n",
       "      <th>colorIndicator</th>\n",
       "      <th>hasNoDeckLimit</th>\n",
       "    </tr>\n",
       "  </thead>\n",
       "  <tbody>\n",
       "    <tr>\n",
       "      <th>\"Ach! Hans, Run!\"</th>\n",
       "      <td>[G, R]</td>\n",
       "      <td>[G, R]</td>\n",
       "      <td>6.0</td>\n",
       "      <td>[]</td>\n",
       "      <td>normal</td>\n",
       "      <td>{}</td>\n",
       "      <td>{2}{R}{R}{G}{G}</td>\n",
       "      <td>\"Ach! Hans, Run!\"</td>\n",
       "      <td>[UNH]</td>\n",
       "      <td>{'cardmarket': 'https://mtgjson.com/links/6227...</td>\n",
       "      <td>...</td>\n",
       "      <td>NaN</td>\n",
       "      <td>NaN</td>\n",
       "      <td>NaN</td>\n",
       "      <td>NaN</td>\n",
       "      <td>NaN</td>\n",
       "      <td>NaN</td>\n",
       "      <td>NaN</td>\n",
       "      <td>NaN</td>\n",
       "      <td>NaN</td>\n",
       "      <td>NaN</td>\n",
       "    </tr>\n",
       "    <tr>\n",
       "      <th>\"Rumors of My Death . . .\"</th>\n",
       "      <td>[B]</td>\n",
       "      <td>[B]</td>\n",
       "      <td>3.0</td>\n",
       "      <td>[]</td>\n",
       "      <td>normal</td>\n",
       "      <td>{}</td>\n",
       "      <td>{2}{B}</td>\n",
       "      <td>\"Rumors of My Death . . .\"</td>\n",
       "      <td>[UST]</td>\n",
       "      <td>{'cardmarket': 'https://mtgjson.com/links/371e...</td>\n",
       "      <td>...</td>\n",
       "      <td>NaN</td>\n",
       "      <td>NaN</td>\n",
       "      <td>NaN</td>\n",
       "      <td>NaN</td>\n",
       "      <td>NaN</td>\n",
       "      <td>NaN</td>\n",
       "      <td>NaN</td>\n",
       "      <td>NaN</td>\n",
       "      <td>NaN</td>\n",
       "      <td>NaN</td>\n",
       "    </tr>\n",
       "    <tr>\n",
       "      <th>1996 World Champion</th>\n",
       "      <td>[B, G, R, U, W]</td>\n",
       "      <td>[B, G, R, U, W]</td>\n",
       "      <td>5.0</td>\n",
       "      <td>[]</td>\n",
       "      <td>normal</td>\n",
       "      <td>{}</td>\n",
       "      <td>{W}{U}{B}{R}{G}</td>\n",
       "      <td>1996 World Champion</td>\n",
       "      <td>[PCEL]</td>\n",
       "      <td>NaN</td>\n",
       "      <td>...</td>\n",
       "      <td>NaN</td>\n",
       "      <td>NaN</td>\n",
       "      <td>NaN</td>\n",
       "      <td>NaN</td>\n",
       "      <td>NaN</td>\n",
       "      <td>NaN</td>\n",
       "      <td>NaN</td>\n",
       "      <td>NaN</td>\n",
       "      <td>NaN</td>\n",
       "      <td>NaN</td>\n",
       "    </tr>\n",
       "    <tr>\n",
       "      <th>A Display of My Dark Power</th>\n",
       "      <td>[]</td>\n",
       "      <td>[]</td>\n",
       "      <td>0.0</td>\n",
       "      <td>[]</td>\n",
       "      <td>scheme</td>\n",
       "      <td>{}</td>\n",
       "      <td>NaN</td>\n",
       "      <td>A Display of My Dark Power</td>\n",
       "      <td>[OARC]</td>\n",
       "      <td>NaN</td>\n",
       "      <td>...</td>\n",
       "      <td>NaN</td>\n",
       "      <td>NaN</td>\n",
       "      <td>NaN</td>\n",
       "      <td>NaN</td>\n",
       "      <td>NaN</td>\n",
       "      <td>NaN</td>\n",
       "      <td>NaN</td>\n",
       "      <td>NaN</td>\n",
       "      <td>NaN</td>\n",
       "      <td>NaN</td>\n",
       "    </tr>\n",
       "    <tr>\n",
       "      <th>A Good Thing</th>\n",
       "      <td>[B, W]</td>\n",
       "      <td>[B, W]</td>\n",
       "      <td>6.0</td>\n",
       "      <td>[]</td>\n",
       "      <td>normal</td>\n",
       "      <td>{}</td>\n",
       "      <td>{4}{W}{B}</td>\n",
       "      <td>A Good Thing</td>\n",
       "      <td>[MYSTPT]</td>\n",
       "      <td>NaN</td>\n",
       "      <td>...</td>\n",
       "      <td>NaN</td>\n",
       "      <td>NaN</td>\n",
       "      <td>NaN</td>\n",
       "      <td>NaN</td>\n",
       "      <td>NaN</td>\n",
       "      <td>NaN</td>\n",
       "      <td>NaN</td>\n",
       "      <td>NaN</td>\n",
       "      <td>NaN</td>\n",
       "      <td>NaN</td>\n",
       "    </tr>\n",
       "  </tbody>\n",
       "</table>\n",
       "<p>5 rows × 34 columns</p>\n",
       "</div>"
      ],
      "text/plain": [
       "                              colorIdentity           colors  \\\n",
       "\"Ach! Hans, Run!\"                    [G, R]           [G, R]   \n",
       "\"Rumors of My Death . . .\"              [B]              [B]   \n",
       "1996 World Champion         [B, G, R, U, W]  [B, G, R, U, W]   \n",
       "A Display of My Dark Power               []               []   \n",
       "A Good Thing                         [B, W]           [B, W]   \n",
       "\n",
       "                           convertedManaCost foreignData  layout legalities  \\\n",
       "\"Ach! Hans, Run!\"                        6.0          []  normal         {}   \n",
       "\"Rumors of My Death . . .\"               3.0          []  normal         {}   \n",
       "1996 World Champion                      5.0          []  normal         {}   \n",
       "A Display of My Dark Power               0.0          []  scheme         {}   \n",
       "A Good Thing                             6.0          []  normal         {}   \n",
       "\n",
       "                                   manaCost                        name  \\\n",
       "\"Ach! Hans, Run!\"           {2}{R}{R}{G}{G}           \"Ach! Hans, Run!\"   \n",
       "\"Rumors of My Death . . .\"           {2}{B}  \"Rumors of My Death . . .\"   \n",
       "1996 World Champion         {W}{U}{B}{R}{G}         1996 World Champion   \n",
       "A Display of My Dark Power              NaN  A Display of My Dark Power   \n",
       "A Good Thing                      {4}{W}{B}                A Good Thing   \n",
       "\n",
       "                           printings  \\\n",
       "\"Ach! Hans, Run!\"              [UNH]   \n",
       "\"Rumors of My Death . . .\"     [UST]   \n",
       "1996 World Champion           [PCEL]   \n",
       "A Display of My Dark Power    [OARC]   \n",
       "A Good Thing                [MYSTPT]   \n",
       "\n",
       "                                                                 purchaseUrls  \\\n",
       "\"Ach! Hans, Run!\"           {'cardmarket': 'https://mtgjson.com/links/6227...   \n",
       "\"Rumors of My Death . . .\"  {'cardmarket': 'https://mtgjson.com/links/371e...   \n",
       "1996 World Champion                                                       NaN   \n",
       "A Display of My Dark Power                                                NaN   \n",
       "A Good Thing                                                              NaN   \n",
       "\n",
       "                            ... faceConvertedManaCost names side isReserved  \\\n",
       "\"Ach! Hans, Run!\"           ...                   NaN   NaN  NaN        NaN   \n",
       "\"Rumors of My Death . . .\"  ...                   NaN   NaN  NaN        NaN   \n",
       "1996 World Champion         ...                   NaN   NaN  NaN        NaN   \n",
       "A Display of My Dark Power  ...                   NaN   NaN  NaN        NaN   \n",
       "A Good Thing                ...                   NaN   NaN  NaN        NaN   \n",
       "\n",
       "                           leadershipSkills loyalty hand life colorIndicator  \\\n",
       "\"Ach! Hans, Run!\"                       NaN     NaN  NaN  NaN            NaN   \n",
       "\"Rumors of My Death . . .\"              NaN     NaN  NaN  NaN            NaN   \n",
       "1996 World Champion                     NaN     NaN  NaN  NaN            NaN   \n",
       "A Display of My Dark Power              NaN     NaN  NaN  NaN            NaN   \n",
       "A Good Thing                            NaN     NaN  NaN  NaN            NaN   \n",
       "\n",
       "                           hasNoDeckLimit  \n",
       "\"Ach! Hans, Run!\"                     NaN  \n",
       "\"Rumors of My Death . . .\"            NaN  \n",
       "1996 World Champion                   NaN  \n",
       "A Display of My Dark Power            NaN  \n",
       "A Good Thing                          NaN  \n",
       "\n",
       "[5 rows x 34 columns]"
      ]
     },
     "execution_count": 17,
     "metadata": {},
     "output_type": "execute_result"
    }
   ],
   "source": [
    "df=pd.read_json(path_or_buf='/Users/sra/files/projects/mtg_project/data/mtg_card_data/AllCards.json').T\n",
    "df.head()"
   ]
  },
  {
   "cell_type": "code",
   "execution_count": 18,
   "id": "b9bfb318-8132-4898-824b-9021c68e80df",
   "metadata": {},
   "outputs": [
    {
     "name": "stdout",
     "output_type": "stream",
     "text": [
      "<class 'pandas.core.frame.DataFrame'>\n",
      "Index: 20478 entries, \"Ach! Hans, Run!\" to capital offense\n",
      "Data columns (total 34 columns):\n",
      " #   Column                 Non-Null Count  Dtype \n",
      "---  ------                 --------------  ----- \n",
      " 0   colorIdentity          20478 non-null  object\n",
      " 1   colors                 20478 non-null  object\n",
      " 2   convertedManaCost      20478 non-null  object\n",
      " 3   foreignData            20478 non-null  object\n",
      " 4   layout                 20478 non-null  object\n",
      " 5   legalities             20478 non-null  object\n",
      " 6   manaCost               19270 non-null  object\n",
      " 7   name                   20478 non-null  object\n",
      " 8   printings              20478 non-null  object\n",
      " 9   purchaseUrls           18423 non-null  object\n",
      " 10  rulings                20478 non-null  object\n",
      " 11  scryfallOracleId       20478 non-null  object\n",
      " 12  subtypes               20478 non-null  object\n",
      " 13  supertypes             20478 non-null  object\n",
      " 14  text                   20151 non-null  object\n",
      " 15  type                   20478 non-null  object\n",
      " 16  types                  20478 non-null  object\n",
      " 17  uuid                   20478 non-null  object\n",
      " 18  edhrecRank             19305 non-null  object\n",
      " 19  mtgoFoilId             12622 non-null  object\n",
      " 20  mtgoId                 14963 non-null  object\n",
      " 21  mtgArenaId             2682 non-null   object\n",
      " 22  power                  10747 non-null  object\n",
      " 23  toughness              10747 non-null  object\n",
      " 24  faceConvertedManaCost  447 non-null    object\n",
      " 25  names                  1476 non-null   object\n",
      " 26  side                   493 non-null    object\n",
      " 27  isReserved             571 non-null    object\n",
      " 28  leadershipSkills       1117 non-null   object\n",
      " 29  loyalty                204 non-null    object\n",
      " 30  hand                   107 non-null    object\n",
      " 31  life                   107 non-null    object\n",
      " 32  colorIndicator         98 non-null     object\n",
      " 33  hasNoDeckLimit         4 non-null      object\n",
      "dtypes: object(34)\n",
      "memory usage: 6.0+ MB\n"
     ]
    }
   ],
   "source": [
    "df.info()"
   ]
  },
  {
   "cell_type": "markdown",
   "id": "e9ffa985-db58-47dd-a043-dd8e5f1566df",
   "metadata": {},
   "source": [
    "## Create subset of dataset"
   ]
  },
  {
   "cell_type": "markdown",
   "id": "106d270d-804a-4c27-acb1-6cf849636cca",
   "metadata": {},
   "source": [
    "It appears that the `colorIdentity`, `colors`, and `name` have no nulls, and has no null entries, which is good, so let's make a new dataframe with those columns."
   ]
  },
  {
   "cell_type": "code",
   "execution_count": 44,
   "id": "c9b1b801-14c0-4dd5-9716-d831945ed97b",
   "metadata": {},
   "outputs": [
    {
     "data": {
      "text/html": [
       "<div>\n",
       "<style scoped>\n",
       "    .dataframe tbody tr th:only-of-type {\n",
       "        vertical-align: middle;\n",
       "    }\n",
       "\n",
       "    .dataframe tbody tr th {\n",
       "        vertical-align: top;\n",
       "    }\n",
       "\n",
       "    .dataframe thead th {\n",
       "        text-align: right;\n",
       "    }\n",
       "</style>\n",
       "<table border=\"1\" class=\"dataframe\">\n",
       "  <thead>\n",
       "    <tr style=\"text-align: right;\">\n",
       "      <th></th>\n",
       "      <th>name</th>\n",
       "      <th>colorIdentity</th>\n",
       "      <th>colors</th>\n",
       "      <th>manaCost</th>\n",
       "      <th>convertedManaCost</th>\n",
       "    </tr>\n",
       "  </thead>\n",
       "  <tbody>\n",
       "    <tr>\n",
       "      <th>0</th>\n",
       "      <td>\"Ach! Hans, Run!\"</td>\n",
       "      <td>[G, R]</td>\n",
       "      <td>[G, R]</td>\n",
       "      <td>{2}{R}{R}{G}{G}</td>\n",
       "      <td>6.0</td>\n",
       "    </tr>\n",
       "    <tr>\n",
       "      <th>1</th>\n",
       "      <td>\"Rumors of My Death . . .\"</td>\n",
       "      <td>[B]</td>\n",
       "      <td>[B]</td>\n",
       "      <td>{2}{B}</td>\n",
       "      <td>3.0</td>\n",
       "    </tr>\n",
       "    <tr>\n",
       "      <th>2</th>\n",
       "      <td>1996 World Champion</td>\n",
       "      <td>[B, G, R, U, W]</td>\n",
       "      <td>[B, G, R, U, W]</td>\n",
       "      <td>{W}{U}{B}{R}{G}</td>\n",
       "      <td>5.0</td>\n",
       "    </tr>\n",
       "    <tr>\n",
       "      <th>3</th>\n",
       "      <td>A Display of My Dark Power</td>\n",
       "      <td>[]</td>\n",
       "      <td>[]</td>\n",
       "      <td>NaN</td>\n",
       "      <td>0.0</td>\n",
       "    </tr>\n",
       "    <tr>\n",
       "      <th>4</th>\n",
       "      <td>A Good Thing</td>\n",
       "      <td>[B, W]</td>\n",
       "      <td>[B, W]</td>\n",
       "      <td>{4}{W}{B}</td>\n",
       "      <td>6.0</td>\n",
       "    </tr>\n",
       "  </tbody>\n",
       "</table>\n",
       "</div>"
      ],
      "text/plain": [
       "                         name    colorIdentity           colors  \\\n",
       "0           \"Ach! Hans, Run!\"           [G, R]           [G, R]   \n",
       "1  \"Rumors of My Death . . .\"              [B]              [B]   \n",
       "2         1996 World Champion  [B, G, R, U, W]  [B, G, R, U, W]   \n",
       "3  A Display of My Dark Power               []               []   \n",
       "4                A Good Thing           [B, W]           [B, W]   \n",
       "\n",
       "          manaCost convertedManaCost  \n",
       "0  {2}{R}{R}{G}{G}               6.0  \n",
       "1           {2}{B}               3.0  \n",
       "2  {W}{U}{B}{R}{G}               5.0  \n",
       "3              NaN               0.0  \n",
       "4        {4}{W}{B}               6.0  "
      ]
     },
     "execution_count": 44,
     "metadata": {},
     "output_type": "execute_result"
    }
   ],
   "source": [
    "df_c=df[['name','colorIdentity','colors','manaCost','convertedManaCost']].reset_index().drop('index',axis=1)\n",
    "df_c.head()"
   ]
  },
  {
   "cell_type": "markdown",
   "id": "abfb247d-6b79-40b8-a306-60c0d1f9ac0f",
   "metadata": {},
   "source": [
    "Rename the columns to make it easier on me:"
   ]
  },
  {
   "cell_type": "code",
   "execution_count": 55,
   "id": "cbf6abb1-ca5b-4b3d-95e2-b26d89481f5d",
   "metadata": {},
   "outputs": [],
   "source": [
    "df_c=df_c.rename(columns={'convertedManaCost':'cmc'})"
   ]
  },
  {
   "cell_type": "code",
   "execution_count": 56,
   "id": "dcf25ff0-0911-44c0-bce6-bca9893aedf5",
   "metadata": {},
   "outputs": [
    {
     "data": {
      "text/html": [
       "<div>\n",
       "<style scoped>\n",
       "    .dataframe tbody tr th:only-of-type {\n",
       "        vertical-align: middle;\n",
       "    }\n",
       "\n",
       "    .dataframe tbody tr th {\n",
       "        vertical-align: top;\n",
       "    }\n",
       "\n",
       "    .dataframe thead th {\n",
       "        text-align: right;\n",
       "    }\n",
       "</style>\n",
       "<table border=\"1\" class=\"dataframe\">\n",
       "  <thead>\n",
       "    <tr style=\"text-align: right;\">\n",
       "      <th></th>\n",
       "      <th>name</th>\n",
       "      <th>colorIdentity</th>\n",
       "      <th>colors</th>\n",
       "      <th>manaCost</th>\n",
       "      <th>cmc</th>\n",
       "    </tr>\n",
       "  </thead>\n",
       "  <tbody>\n",
       "    <tr>\n",
       "      <th>0</th>\n",
       "      <td>ach hans run</td>\n",
       "      <td>[G, R]</td>\n",
       "      <td>[G, R]</td>\n",
       "      <td>{2}{R}{R}{G}{G}</td>\n",
       "      <td>6.0</td>\n",
       "    </tr>\n",
       "    <tr>\n",
       "      <th>1</th>\n",
       "      <td>rumors of my death</td>\n",
       "      <td>[B]</td>\n",
       "      <td>[B]</td>\n",
       "      <td>{2}{B}</td>\n",
       "      <td>3.0</td>\n",
       "    </tr>\n",
       "    <tr>\n",
       "      <th>2</th>\n",
       "      <td>1996 world champion</td>\n",
       "      <td>[B, G, R, U, W]</td>\n",
       "      <td>[B, G, R, U, W]</td>\n",
       "      <td>{W}{U}{B}{R}{G}</td>\n",
       "      <td>5.0</td>\n",
       "    </tr>\n",
       "    <tr>\n",
       "      <th>3</th>\n",
       "      <td>a display of my dark power</td>\n",
       "      <td>[]</td>\n",
       "      <td>[]</td>\n",
       "      <td>NaN</td>\n",
       "      <td>0.0</td>\n",
       "    </tr>\n",
       "    <tr>\n",
       "      <th>4</th>\n",
       "      <td>a good thing</td>\n",
       "      <td>[B, W]</td>\n",
       "      <td>[B, W]</td>\n",
       "      <td>{4}{W}{B}</td>\n",
       "      <td>6.0</td>\n",
       "    </tr>\n",
       "  </tbody>\n",
       "</table>\n",
       "</div>"
      ],
      "text/plain": [
       "                         name    colorIdentity           colors  \\\n",
       "0                ach hans run           [G, R]           [G, R]   \n",
       "1       rumors of my death                 [B]              [B]   \n",
       "2         1996 world champion  [B, G, R, U, W]  [B, G, R, U, W]   \n",
       "3  a display of my dark power               []               []   \n",
       "4                a good thing           [B, W]           [B, W]   \n",
       "\n",
       "          manaCost  cmc  \n",
       "0  {2}{R}{R}{G}{G}  6.0  \n",
       "1           {2}{B}  3.0  \n",
       "2  {W}{U}{B}{R}{G}  5.0  \n",
       "3              NaN  0.0  \n",
       "4        {4}{W}{B}  6.0  "
      ]
     },
     "execution_count": 56,
     "metadata": {},
     "output_type": "execute_result"
    }
   ],
   "source": [
    "df_c.head()"
   ]
  },
  {
   "cell_type": "code",
   "execution_count": 59,
   "id": "75b27f23-cbb4-4ec4-a9e5-ab866215f4cb",
   "metadata": {},
   "outputs": [
    {
     "data": {
      "text/html": [
       "<div>\n",
       "<style scoped>\n",
       "    .dataframe tbody tr th:only-of-type {\n",
       "        vertical-align: middle;\n",
       "    }\n",
       "\n",
       "    .dataframe tbody tr th {\n",
       "        vertical-align: top;\n",
       "    }\n",
       "\n",
       "    .dataframe thead th {\n",
       "        text-align: right;\n",
       "    }\n",
       "</style>\n",
       "<table border=\"1\" class=\"dataframe\">\n",
       "  <thead>\n",
       "    <tr style=\"text-align: right;\">\n",
       "      <th></th>\n",
       "      <th>name</th>\n",
       "      <th>colorIdentity</th>\n",
       "      <th>colors</th>\n",
       "      <th>manaCost</th>\n",
       "      <th>cmc</th>\n",
       "    </tr>\n",
       "  </thead>\n",
       "  <tbody>\n",
       "    <tr>\n",
       "      <th>3</th>\n",
       "      <td>a display of my dark power</td>\n",
       "      <td>[]</td>\n",
       "      <td>[]</td>\n",
       "      <td>NaN</td>\n",
       "      <td>0.0</td>\n",
       "    </tr>\n",
       "    <tr>\n",
       "      <th>5</th>\n",
       "      <td>a reckoning approaches</td>\n",
       "      <td>[]</td>\n",
       "      <td>[]</td>\n",
       "      <td>NaN</td>\n",
       "      <td>0.0</td>\n",
       "    </tr>\n",
       "    <tr>\n",
       "      <th>9</th>\n",
       "      <td>abandoned outpost</td>\n",
       "      <td>[W]</td>\n",
       "      <td>[]</td>\n",
       "      <td>NaN</td>\n",
       "      <td>0.0</td>\n",
       "    </tr>\n",
       "    <tr>\n",
       "      <th>24</th>\n",
       "      <td>abolisher of bloodlines</td>\n",
       "      <td>[B]</td>\n",
       "      <td>[]</td>\n",
       "      <td>NaN</td>\n",
       "      <td>5.0</td>\n",
       "    </tr>\n",
       "    <tr>\n",
       "      <th>70</th>\n",
       "      <td>academy ruins</td>\n",
       "      <td>[U]</td>\n",
       "      <td>[]</td>\n",
       "      <td>NaN</td>\n",
       "      <td>0.0</td>\n",
       "    </tr>\n",
       "    <tr>\n",
       "      <th>...</th>\n",
       "      <td>...</td>\n",
       "      <td>...</td>\n",
       "      <td>...</td>\n",
       "      <td>...</td>\n",
       "      <td>...</td>\n",
       "    </tr>\n",
       "    <tr>\n",
       "      <th>20363</th>\n",
       "      <td>your puny minds cannot fathom</td>\n",
       "      <td>[]</td>\n",
       "      <td>[]</td>\n",
       "      <td>NaN</td>\n",
       "      <td>0.0</td>\n",
       "    </tr>\n",
       "    <tr>\n",
       "      <th>20364</th>\n",
       "      <td>your will is not your own</td>\n",
       "      <td>[]</td>\n",
       "      <td>[]</td>\n",
       "      <td>NaN</td>\n",
       "      <td>0.0</td>\n",
       "    </tr>\n",
       "    <tr>\n",
       "      <th>20415</th>\n",
       "      <td>zhalfirin void</td>\n",
       "      <td>[]</td>\n",
       "      <td>[]</td>\n",
       "      <td>NaN</td>\n",
       "      <td>0.0</td>\n",
       "    </tr>\n",
       "    <tr>\n",
       "      <th>20442</th>\n",
       "      <td>zoetic cavern</td>\n",
       "      <td>[]</td>\n",
       "      <td>[]</td>\n",
       "      <td>NaN</td>\n",
       "      <td>0.0</td>\n",
       "    </tr>\n",
       "    <tr>\n",
       "      <th>20459</th>\n",
       "      <td>zombified</td>\n",
       "      <td>[B]</td>\n",
       "      <td>[B]</td>\n",
       "      <td>NaN</td>\n",
       "      <td>0.0</td>\n",
       "    </tr>\n",
       "  </tbody>\n",
       "</table>\n",
       "<p>1208 rows × 5 columns</p>\n",
       "</div>"
      ],
      "text/plain": [
       "                                name colorIdentity colors manaCost  cmc\n",
       "3         a display of my dark power            []     []      NaN  0.0\n",
       "5             a reckoning approaches            []     []      NaN  0.0\n",
       "9                  abandoned outpost           [W]     []      NaN  0.0\n",
       "24           abolisher of bloodlines           [B]     []      NaN  5.0\n",
       "70                     academy ruins           [U]     []      NaN  0.0\n",
       "...                              ...           ...    ...      ...  ...\n",
       "20363  your puny minds cannot fathom            []     []      NaN  0.0\n",
       "20364      your will is not your own            []     []      NaN  0.0\n",
       "20415                 zhalfirin void            []     []      NaN  0.0\n",
       "20442                  zoetic cavern            []     []      NaN  0.0\n",
       "20459                      zombified           [B]    [B]      NaN  0.0\n",
       "\n",
       "[1208 rows x 5 columns]"
      ]
     },
     "execution_count": 59,
     "metadata": {},
     "output_type": "execute_result"
    }
   ],
   "source": [
    "# number of rows with `NaN` in manaCost column\n",
    "df_c[df_c['manaCost'].isna()]"
   ]
  },
  {
   "cell_type": "markdown",
   "id": "3b020523-9600-4489-bff5-ad2c536602a5",
   "metadata": {},
   "source": [
    "What do the rows look like when cmc>0 and manaCost=NaN?"
   ]
  },
  {
   "cell_type": "code",
   "execution_count": 67,
   "id": "ad61a6f8-1b3f-4048-94e5-8efd9f1c979b",
   "metadata": {},
   "outputs": [
    {
     "data": {
      "text/html": [
       "<div>\n",
       "<style scoped>\n",
       "    .dataframe tbody tr th:only-of-type {\n",
       "        vertical-align: middle;\n",
       "    }\n",
       "\n",
       "    .dataframe tbody tr th {\n",
       "        vertical-align: top;\n",
       "    }\n",
       "\n",
       "    .dataframe thead th {\n",
       "        text-align: right;\n",
       "    }\n",
       "</style>\n",
       "<table border=\"1\" class=\"dataframe\">\n",
       "  <thead>\n",
       "    <tr style=\"text-align: right;\">\n",
       "      <th></th>\n",
       "      <th>name</th>\n",
       "      <th>colorIdentity</th>\n",
       "      <th>colors</th>\n",
       "      <th>manaCost</th>\n",
       "      <th>cmc</th>\n",
       "    </tr>\n",
       "  </thead>\n",
       "  <tbody>\n",
       "    <tr>\n",
       "      <th>24</th>\n",
       "      <td>abolisher of bloodlines</td>\n",
       "      <td>[B]</td>\n",
       "      <td>[]</td>\n",
       "      <td>NaN</td>\n",
       "      <td>5.0</td>\n",
       "    </tr>\n",
       "    <tr>\n",
       "      <th>110</th>\n",
       "      <td>adanto the first fort</td>\n",
       "      <td>[W]</td>\n",
       "      <td>[]</td>\n",
       "      <td>NaN</td>\n",
       "      <td>1.0</td>\n",
       "    </tr>\n",
       "    <tr>\n",
       "      <th>513</th>\n",
       "      <td>ancient of the equinox</td>\n",
       "      <td>[B, G]</td>\n",
       "      <td>[G]</td>\n",
       "      <td>NaN</td>\n",
       "      <td>3.0</td>\n",
       "    </tr>\n",
       "    <tr>\n",
       "      <th>737</th>\n",
       "      <td>archdemon of greed</td>\n",
       "      <td>[B]</td>\n",
       "      <td>[B]</td>\n",
       "      <td>NaN</td>\n",
       "      <td>5.0</td>\n",
       "    </tr>\n",
       "    <tr>\n",
       "      <th>812</th>\n",
       "      <td>arlinn embraced by the moon</td>\n",
       "      <td>[G, R]</td>\n",
       "      <td>[G, R]</td>\n",
       "      <td>NaN</td>\n",
       "      <td>4.0</td>\n",
       "    </tr>\n",
       "    <tr>\n",
       "      <th>...</th>\n",
       "      <td>...</td>\n",
       "      <td>...</td>\n",
       "      <td>...</td>\n",
       "      <td>...</td>\n",
       "      <td>...</td>\n",
       "    </tr>\n",
       "    <tr>\n",
       "      <th>19843</th>\n",
       "      <td>werewolf of ancient hunger</td>\n",
       "      <td>[G]</td>\n",
       "      <td>[G]</td>\n",
       "      <td>NaN</td>\n",
       "      <td>5.0</td>\n",
       "    </tr>\n",
       "    <tr>\n",
       "      <th>19846</th>\n",
       "      <td>westvale cult leader</td>\n",
       "      <td>[W]</td>\n",
       "      <td>[W]</td>\n",
       "      <td>NaN</td>\n",
       "      <td>2.0</td>\n",
       "    </tr>\n",
       "    <tr>\n",
       "      <th>19970</th>\n",
       "      <td>wildblood pack</td>\n",
       "      <td>[R]</td>\n",
       "      <td>[R]</td>\n",
       "      <td>NaN</td>\n",
       "      <td>4.0</td>\n",
       "    </tr>\n",
       "    <tr>\n",
       "      <th>20057</th>\n",
       "      <td>winged temple of orazca</td>\n",
       "      <td>[G, U]</td>\n",
       "      <td>[]</td>\n",
       "      <td>NaN</td>\n",
       "      <td>3.0</td>\n",
       "    </tr>\n",
       "    <tr>\n",
       "      <th>20114</th>\n",
       "      <td>withengar unbound</td>\n",
       "      <td>[B]</td>\n",
       "      <td>[B]</td>\n",
       "      <td>NaN</td>\n",
       "      <td>7.0</td>\n",
       "    </tr>\n",
       "  </tbody>\n",
       "</table>\n",
       "<p>129 rows × 5 columns</p>\n",
       "</div>"
      ],
      "text/plain": [
       "                              name colorIdentity  colors manaCost  cmc\n",
       "24         abolisher of bloodlines           [B]      []      NaN  5.0\n",
       "110          adanto the first fort           [W]      []      NaN  1.0\n",
       "513         ancient of the equinox        [B, G]     [G]      NaN  3.0\n",
       "737             archdemon of greed           [B]     [B]      NaN  5.0\n",
       "812    arlinn embraced by the moon        [G, R]  [G, R]      NaN  4.0\n",
       "...                            ...           ...     ...      ...  ...\n",
       "19843   werewolf of ancient hunger           [G]     [G]      NaN  5.0\n",
       "19846         westvale cult leader           [W]     [W]      NaN  2.0\n",
       "19970               wildblood pack           [R]     [R]      NaN  4.0\n",
       "20057      winged temple of orazca        [G, U]      []      NaN  3.0\n",
       "20114            withengar unbound           [B]     [B]      NaN  7.0\n",
       "\n",
       "[129 rows x 5 columns]"
      ]
     },
     "execution_count": 67,
     "metadata": {},
     "output_type": "execute_result"
    }
   ],
   "source": [
    "df_c[(df_c['manaCost'].isna()) & (df_c['cmc']>0)]"
   ]
  },
  {
   "cell_type": "markdown",
   "id": "0c30ec67-cb47-4d7b-9f15-7d158de4751c",
   "metadata": {},
   "source": [
    "Some cards have two sides, so the backside has no manaCost but does have a cmc."
   ]
  },
  {
   "cell_type": "markdown",
   "id": "9a597fc1-4d0b-4329-a5c9-3d1b241e73b2",
   "metadata": {},
   "source": [
    "Visualize the distribution of `cmc`:"
   ]
  },
  {
   "cell_type": "code",
   "execution_count": 98,
   "id": "7b58a49f-d46f-4417-a4ef-57509071c348",
   "metadata": {},
   "outputs": [],
   "source": [
    "# setup bar graph bins\n",
    "values,counts=np.unique(df_c['cmc'],return_counts=True)\n",
    "normalized_counts=counts/counts.sum()"
   ]
  },
  {
   "cell_type": "code",
   "execution_count": 99,
   "id": "6b7d4955-a333-4a7e-9a0b-a47117259465",
   "metadata": {},
   "outputs": [
    {
     "data": {
      "text/plain": [
       "array([0.0, 0.5, 1.0, 2.0, 3.0, 4.0, 5.0, 6.0, 7.0, 8.0, 9.0, 10.0, 11.0,\n",
       "       12.0, 13.0, 14.0, 15.0, 16.0], dtype=object)"
      ]
     },
     "execution_count": 99,
     "metadata": {},
     "output_type": "execute_result"
    }
   ],
   "source": [
    "values"
   ]
  },
  {
   "cell_type": "code",
   "execution_count": 100,
   "id": "587952d8-19f2-4f26-a808-998415d0f277",
   "metadata": {},
   "outputs": [
    {
     "data": {
      "text/plain": [
       "array([1148,    1, 2174, 4074, 4640, 3785, 2390, 1345,  565,  213,   75,\n",
       "         35,   13,    6,    6,    1,    5,    1])"
      ]
     },
     "execution_count": 100,
     "metadata": {},
     "output_type": "execute_result"
    }
   ],
   "source": [
    "counts"
   ]
  },
  {
   "cell_type": "markdown",
   "id": "3901c0a3-5baa-4cb4-994a-5cf63a64940f",
   "metadata": {},
   "source": [
    "Whoops, maybe we remove the one card that has a `cmc` of 1 million and 0.5"
   ]
  },
  {
   "cell_type": "code",
   "execution_count": 141,
   "id": "f94ba858-eb49-4f98-8a32-d7a015f2a9d6",
   "metadata": {},
   "outputs": [],
   "source": [
    "df_c=df_c[(df_c['cmc']<100) & (df_c['cmc']!=0.5)]"
   ]
  },
  {
   "cell_type": "code",
   "execution_count": 142,
   "id": "84a8b1a3-d837-4ce6-9233-c4e7f4e9fadb",
   "metadata": {},
   "outputs": [],
   "source": [
    "values,counts=np.unique(df_c['cmc'],return_counts=True)\n",
    "normalized_counts=counts/counts.sum()"
   ]
  },
  {
   "cell_type": "code",
   "execution_count": 143,
   "id": "7384831e-4e76-4a67-9217-dada60671af9",
   "metadata": {},
   "outputs": [
    {
     "data": {
      "text/plain": [
       "array([0.0, 1.0, 2.0, 3.0, 4.0, 5.0, 6.0, 7.0, 8.0, 9.0, 10.0, 11.0, 12.0,\n",
       "       13.0, 14.0, 15.0, 16.0], dtype=object)"
      ]
     },
     "execution_count": 143,
     "metadata": {},
     "output_type": "execute_result"
    }
   ],
   "source": [
    "values"
   ]
  },
  {
   "cell_type": "code",
   "execution_count": 144,
   "id": "472a6c26-9d92-4e1e-beaa-264c67216991",
   "metadata": {},
   "outputs": [
    {
     "data": {
      "text/plain": [
       "array([1148, 2174, 4074, 4640, 3785, 2390, 1345,  565,  213,   75,   35,\n",
       "         13,    6,    6,    1,    5,    1])"
      ]
     },
     "execution_count": 144,
     "metadata": {},
     "output_type": "execute_result"
    }
   ],
   "source": [
    "counts"
   ]
  },
  {
   "cell_type": "code",
   "execution_count": 145,
   "id": "ddb25f10-2610-4f4a-96b9-7eb23d2760f9",
   "metadata": {},
   "outputs": [
    {
     "data": {
      "text/plain": [
       "array([5.60656378e-02, 1.06173081e-01, 1.98964642e-01, 2.26606759e-01,\n",
       "       1.84850557e-01, 1.16722016e-01, 6.56866576e-02, 2.75932799e-02,\n",
       "       1.04024223e-02, 3.66282477e-03, 1.70931823e-03, 6.34889627e-04,\n",
       "       2.93025982e-04, 2.93025982e-04, 4.88376636e-05, 2.44188318e-04,\n",
       "       4.88376636e-05])"
      ]
     },
     "execution_count": 145,
     "metadata": {},
     "output_type": "execute_result"
    }
   ],
   "source": [
    "normalized_counts"
   ]
  },
  {
   "cell_type": "code",
   "execution_count": 146,
   "id": "7b145323-40f9-41e4-9e28-2e79ff1d85da",
   "metadata": {},
   "outputs": [
    {
     "data": {
      "text/plain": [
       "['0.0',\n",
       " '1.0',\n",
       " '2.0',\n",
       " '3.0',\n",
       " '4.0',\n",
       " '5.0',\n",
       " '6.0',\n",
       " '7.0',\n",
       " '8.0',\n",
       " '9.0',\n",
       " '10.0',\n",
       " '11.0',\n",
       " '12.0',\n",
       " '13.0',\n",
       " '14.0',\n",
       " '15.0',\n",
       " '16.0']"
      ]
     },
     "execution_count": 146,
     "metadata": {},
     "output_type": "execute_result"
    }
   ],
   "source": [
    "# setup x-labels for bar graph\n",
    "# they need to be strings, apparently\n",
    "\n",
    "custom_xlab=list(values)\n",
    "custom_xlab_str=[str(i) for i in custom_xlab]\n",
    "\n",
    "custom_xlab_str"
   ]
  },
  {
   "cell_type": "markdown",
   "id": "9302e1e6-070b-4cab-bb7d-5f3e0aab300f",
   "metadata": {},
   "source": [
    "Great, now we're ready to visualize:"
   ]
  },
  {
   "cell_type": "code",
   "execution_count": 147,
   "id": "e5170b5b-a8d7-4740-9636-261ec46fb262",
   "metadata": {},
   "outputs": [
    {
     "data": {
      "image/png": "[encoded data removed]",
      "text/plain": [
       "<Figure size 800x700 with 1 Axes>"
      ]
     },
     "metadata": {},
     "output_type": "display_data"
    }
   ],
   "source": [
    "# Create a figure and axis\n",
    "fig, ax = plt.subplots(figsize=(8, 7))\n",
    "\n",
    "# Create the bar chart\n",
    "ax.bar(custom_xlab_str, normalized_counts)\n",
    "\n",
    "# Label the axes and set the title\n",
    "ax.set_xlabel('Converted Mana Cost')\n",
    "ax.set_ylabel('% of Cards')\n",
    "ax.set_title('Distribution of Converted Mana Cost')\n",
    "\n",
    "# Display the plot\n",
    "plt.xticks(rotation=45)  # Rotate x-axis labels for better visibility\n",
    "plt.tight_layout()\n",
    "plt.show()"
   ]
  },
  {
   "cell_type": "markdown",
   "id": "00fdc0e9-9067-4057-81af-893ce0c5a801",
   "metadata": {},
   "source": [
    "Most cards in the database are of cmc=3"
   ]
  },
  {
   "cell_type": "markdown",
   "id": "90ecd534-1811-4be1-b335-ac26cb2029f6",
   "metadata": {},
   "source": [
    "## Card Names"
   ]
  },
  {
   "cell_type": "code",
   "execution_count": 45,
   "id": "ba83059f-d44e-4b90-a7c4-fb107b788f25",
   "metadata": {},
   "outputs": [
    {
     "data": {
      "text/html": [
       "<div>\n",
       "<style scoped>\n",
       "    .dataframe tbody tr th:only-of-type {\n",
       "        vertical-align: middle;\n",
       "    }\n",
       "\n",
       "    .dataframe tbody tr th {\n",
       "        vertical-align: top;\n",
       "    }\n",
       "\n",
       "    .dataframe thead th {\n",
       "        text-align: right;\n",
       "    }\n",
       "</style>\n",
       "<table border=\"1\" class=\"dataframe\">\n",
       "  <thead>\n",
       "    <tr style=\"text-align: right;\">\n",
       "      <th></th>\n",
       "      <th>name</th>\n",
       "      <th>colorIdentity</th>\n",
       "      <th>colors</th>\n",
       "      <th>manaCost</th>\n",
       "      <th>convertedManaCost</th>\n",
       "    </tr>\n",
       "  </thead>\n",
       "  <tbody>\n",
       "    <tr>\n",
       "      <th>0</th>\n",
       "      <td>\"ach! hans, run!\"</td>\n",
       "      <td>[G, R]</td>\n",
       "      <td>[G, R]</td>\n",
       "      <td>{2}{R}{R}{G}{G}</td>\n",
       "      <td>6.0</td>\n",
       "    </tr>\n",
       "    <tr>\n",
       "      <th>1</th>\n",
       "      <td>\"rumors of my death . . .\"</td>\n",
       "      <td>[B]</td>\n",
       "      <td>[B]</td>\n",
       "      <td>{2}{B}</td>\n",
       "      <td>3.0</td>\n",
       "    </tr>\n",
       "    <tr>\n",
       "      <th>2</th>\n",
       "      <td>1996 world champion</td>\n",
       "      <td>[B, G, R, U, W]</td>\n",
       "      <td>[B, G, R, U, W]</td>\n",
       "      <td>{W}{U}{B}{R}{G}</td>\n",
       "      <td>5.0</td>\n",
       "    </tr>\n",
       "    <tr>\n",
       "      <th>3</th>\n",
       "      <td>a display of my dark power</td>\n",
       "      <td>[]</td>\n",
       "      <td>[]</td>\n",
       "      <td>NaN</td>\n",
       "      <td>0.0</td>\n",
       "    </tr>\n",
       "    <tr>\n",
       "      <th>4</th>\n",
       "      <td>a good thing</td>\n",
       "      <td>[B, W]</td>\n",
       "      <td>[B, W]</td>\n",
       "      <td>{4}{W}{B}</td>\n",
       "      <td>6.0</td>\n",
       "    </tr>\n",
       "  </tbody>\n",
       "</table>\n",
       "</div>"
      ],
      "text/plain": [
       "                         name    colorIdentity           colors  \\\n",
       "0           \"ach! hans, run!\"           [G, R]           [G, R]   \n",
       "1  \"rumors of my death . . .\"              [B]              [B]   \n",
       "2         1996 world champion  [B, G, R, U, W]  [B, G, R, U, W]   \n",
       "3  a display of my dark power               []               []   \n",
       "4                a good thing           [B, W]           [B, W]   \n",
       "\n",
       "          manaCost convertedManaCost  \n",
       "0  {2}{R}{R}{G}{G}               6.0  \n",
       "1           {2}{B}               3.0  \n",
       "2  {W}{U}{B}{R}{G}               5.0  \n",
       "3              NaN               0.0  \n",
       "4        {4}{W}{B}               6.0  "
      ]
     },
     "execution_count": 45,
     "metadata": {},
     "output_type": "execute_result"
    }
   ],
   "source": [
    "df_c['name']=df_c['name'].str.lower()\n",
    "# convert to string\n",
    "# make lowercase\n",
    "# remove commas\n",
    "df_c.head()"
   ]
  },
  {
   "cell_type": "code",
   "execution_count": 46,
   "id": "0c501c2a-26e1-4c0c-82e3-36cf8cc26d00",
   "metadata": {},
   "outputs": [
    {
     "data": {
      "text/plain": [
       "'!\"#$%&\\'()*+,-./:;<=>?@[\\\\]^_`{|}~'"
      ]
     },
     "execution_count": 46,
     "metadata": {},
     "output_type": "execute_result"
    }
   ],
   "source": [
    "string.punctuation"
   ]
  },
  {
   "cell_type": "code",
   "execution_count": 47,
   "id": "d5980828-e8cd-4c99-8773-5d55c8283036",
   "metadata": {},
   "outputs": [
    {
     "data": {
      "text/html": [
       "<div>\n",
       "<style scoped>\n",
       "    .dataframe tbody tr th:only-of-type {\n",
       "        vertical-align: middle;\n",
       "    }\n",
       "\n",
       "    .dataframe tbody tr th {\n",
       "        vertical-align: top;\n",
       "    }\n",
       "\n",
       "    .dataframe thead th {\n",
       "        text-align: right;\n",
       "    }\n",
       "</style>\n",
       "<table border=\"1\" class=\"dataframe\">\n",
       "  <thead>\n",
       "    <tr style=\"text-align: right;\">\n",
       "      <th></th>\n",
       "      <th>name</th>\n",
       "      <th>colorIdentity</th>\n",
       "      <th>colors</th>\n",
       "      <th>manaCost</th>\n",
       "      <th>convertedManaCost</th>\n",
       "    </tr>\n",
       "  </thead>\n",
       "  <tbody>\n",
       "    <tr>\n",
       "      <th>0</th>\n",
       "      <td>ach hans run</td>\n",
       "      <td>[G, R]</td>\n",
       "      <td>[G, R]</td>\n",
       "      <td>{2}{R}{R}{G}{G}</td>\n",
       "      <td>6.0</td>\n",
       "    </tr>\n",
       "    <tr>\n",
       "      <th>1</th>\n",
       "      <td>rumors of my death</td>\n",
       "      <td>[B]</td>\n",
       "      <td>[B]</td>\n",
       "      <td>{2}{B}</td>\n",
       "      <td>3.0</td>\n",
       "    </tr>\n",
       "    <tr>\n",
       "      <th>2</th>\n",
       "      <td>1996 world champion</td>\n",
       "      <td>[B, G, R, U, W]</td>\n",
       "      <td>[B, G, R, U, W]</td>\n",
       "      <td>{W}{U}{B}{R}{G}</td>\n",
       "      <td>5.0</td>\n",
       "    </tr>\n",
       "    <tr>\n",
       "      <th>3</th>\n",
       "      <td>a display of my dark power</td>\n",
       "      <td>[]</td>\n",
       "      <td>[]</td>\n",
       "      <td>NaN</td>\n",
       "      <td>0.0</td>\n",
       "    </tr>\n",
       "    <tr>\n",
       "      <th>4</th>\n",
       "      <td>a good thing</td>\n",
       "      <td>[B, W]</td>\n",
       "      <td>[B, W]</td>\n",
       "      <td>{4}{W}{B}</td>\n",
       "      <td>6.0</td>\n",
       "    </tr>\n",
       "  </tbody>\n",
       "</table>\n",
       "</div>"
      ],
      "text/plain": [
       "                         name    colorIdentity           colors  \\\n",
       "0                ach hans run           [G, R]           [G, R]   \n",
       "1       rumors of my death                 [B]              [B]   \n",
       "2         1996 world champion  [B, G, R, U, W]  [B, G, R, U, W]   \n",
       "3  a display of my dark power               []               []   \n",
       "4                a good thing           [B, W]           [B, W]   \n",
       "\n",
       "          manaCost convertedManaCost  \n",
       "0  {2}{R}{R}{G}{G}               6.0  \n",
       "1           {2}{B}               3.0  \n",
       "2  {W}{U}{B}{R}{G}               5.0  \n",
       "3              NaN               0.0  \n",
       "4        {4}{W}{B}               6.0  "
      ]
     },
     "execution_count": 47,
     "metadata": {},
     "output_type": "execute_result"
    }
   ],
   "source": [
    "for chr in string.punctuation:\n",
    "    df_c['name']=df_c['name'].str.replace(chr,\"\",regex=True)\n",
    "    \n",
    "df_c.head()"
   ]
  },
  {
   "cell_type": "code",
   "execution_count": 54,
   "id": "8b287a3d-f3e8-4a82-944e-042c0a30aed1",
   "metadata": {},
   "outputs": [
    {
     "name": "stdout",
     "output_type": "stream",
     "text": [
      "['one with the machine' 'drop of honey' 'kuro pitlord']\n"
     ]
    }
   ],
   "source": [
    "print(df_c['name'].sample(3).values)"
   ]
  },
  {
   "cell_type": "markdown",
   "id": "dd11121c-c124-44dd-a955-3fa3744dd961",
   "metadata": {},
   "source": [
    "I think stopwords are important here because we're working with cardnames that are so small anyways. We will not remove stopwords."
   ]
  },
  {
   "cell_type": "markdown",
   "id": "1af87bf7-91c9-4ccf-9756-26760e5b4c47",
   "metadata": {},
   "source": [
    "Let's look at the distribution of the `cmc`, or `convertedManaCost`"
   ]
  },
  {
   "cell_type": "code",
   "execution_count": null,
   "id": "db4e78d2-1659-4608-8119-dd1eb6bbcbf6",
   "metadata": {},
   "outputs": [],
   "source": []
  }
 ],
 "metadata": {
  "kernelspec": {
   "display_name": "bigdataml",
   "language": "python",
   "name": "bigdataml"
  },
  "language_info": {
   "codemirror_mode": {
    "name": "ipython",
    "version": 3
   },
   "file_extension": ".py",
   "mimetype": "text/x-python",
   "name": "python",
   "nbconvert_exporter": "python",
   "pygments_lexer": "ipython3",
   "version": "3.8.16"
  }
 },
 "nbformat": 4,
 "nbformat_minor": 5
}
